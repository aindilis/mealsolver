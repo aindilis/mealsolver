{
 "cells": [
  {
   "cell_type": "code",
   "execution_count": 1,
   "id": "47c000f9",
   "metadata": {},
   "outputs": [],
   "source": [
    "import program"
   ]
  },
  {
   "cell_type": "code",
   "execution_count": 2,
   "id": "6e4fdeae",
   "metadata": {},
   "outputs": [
    {
     "name": "stderr",
     "output_type": "stream",
     "text": [
      "/home/stoopkid/Projects/stoopkid/mealsolver/program.py:54: SettingWithCopyWarning: \n",
      "A value is trying to be set on a copy of a slice from a DataFrame.\n",
      "Try using .loc[row_indexer,col_indexer] = value instead\n",
      "\n",
      "See the caveats in the documentation: https://pandas.pydata.org/pandas-docs/stable/user_guide/indexing.html#returning-a-view-versus-a-copy\n",
      "  self.nutrient_table['intake']   = N @ f\n"
     ]
    },
    {
     "data": {
      "text/html": [
       "<div>\n",
       "<style scoped>\n",
       "    .dataframe tbody tr th:only-of-type {\n",
       "        vertical-align: middle;\n",
       "    }\n",
       "\n",
       "    .dataframe tbody tr th {\n",
       "        vertical-align: top;\n",
       "    }\n",
       "\n",
       "    .dataframe thead th {\n",
       "        text-align: right;\n",
       "    }\n",
       "</style>\n",
       "<table border=\"1\" class=\"dataframe\">\n",
       "  <thead>\n",
       "    <tr style=\"text-align: right;\">\n",
       "      <th></th>\n",
       "      <th>amount</th>\n",
       "    </tr>\n",
       "    <tr>\n",
       "      <th>name</th>\n",
       "      <th></th>\n",
       "    </tr>\n",
       "  </thead>\n",
       "  <tbody>\n",
       "    <tr>\n",
       "      <th>Broccoli (Cooked)</th>\n",
       "      <td>0.518573</td>\n",
       "    </tr>\n",
       "    <tr>\n",
       "      <th>Cooked Celery</th>\n",
       "      <td>13.191981</td>\n",
       "    </tr>\n",
       "    <tr>\n",
       "      <th>Cooked Tomatoes</th>\n",
       "      <td>21.014955</td>\n",
       "    </tr>\n",
       "    <tr>\n",
       "      <th>Cucumber</th>\n",
       "      <td>6.096698</td>\n",
       "    </tr>\n",
       "    <tr>\n",
       "      <th>Dry Roasted Pistachio Nuts</th>\n",
       "      <td>2.421314</td>\n",
       "    </tr>\n",
       "    <tr>\n",
       "      <th>White Button Mushrooms</th>\n",
       "      <td>4.076494</td>\n",
       "    </tr>\n",
       "  </tbody>\n",
       "</table>\n",
       "</div>"
      ],
      "text/plain": [
       "                               amount\n",
       "name                                 \n",
       "Broccoli (Cooked)            0.518573\n",
       "Cooked Celery               13.191981\n",
       "Cooked Tomatoes             21.014955\n",
       "Cucumber                     6.096698\n",
       "Dry Roasted Pistachio Nuts   2.421314\n",
       "White Button Mushrooms       4.076494"
      ]
     },
     "execution_count": 2,
     "metadata": {},
     "output_type": "execute_result"
    }
   ],
   "source": [
    "program.test()"
   ]
  },
  {
   "cell_type": "code",
   "execution_count": null,
   "id": "ca58c344",
   "metadata": {},
   "outputs": [],
   "source": []
  }
 ],
 "metadata": {
  "kernelspec": {
   "display_name": "Python 3",
   "language": "python",
   "name": "python3"
  },
  "language_info": {
   "codemirror_mode": {
    "name": "ipython",
    "version": 3
   },
   "file_extension": ".py",
   "mimetype": "text/x-python",
   "name": "python",
   "nbconvert_exporter": "python",
   "pygments_lexer": "ipython3",
   "version": "3.8.10"
  }
 },
 "nbformat": 4,
 "nbformat_minor": 5
}
